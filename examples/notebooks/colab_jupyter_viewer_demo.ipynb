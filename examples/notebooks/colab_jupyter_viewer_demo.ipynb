{
 "cells": [
  {
   "cell_type": "markdown",
   "metadata": {},
   "source": [
    "# JupyterNotebookViewer Demo for Google Colab\n",
    "\n",
    "[![Open In Colab](https://colab.research.google.com/assets/colab-badge.svg)](https://colab.research.google.com/github/iory/scikit-robot/blob/main/examples/notebooks/colab_jupyter_viewer_demo.ipynb)\n",
    "\n",
    "This notebook demonstrates scikit-robot's JupyterNotebookViewer in Google Colab."
   ]
  },
  {
   "cell_type": "markdown",
   "metadata": {},
   "source": [
    "## Install scikit-robot\n",
    "\n",
    "First, we need to install scikit-robot and its dependencies."
   ]
  },
  {
   "cell_type": "code",
   "execution_count": null,
   "metadata": {},
   "outputs": [],
   "source": [
    "# Install scikit-robot\n",
    "!pip install scikit-robot -q\n",
    "print(\"✓ Installation complete!\")"
   ]
  },
  {
   "cell_type": "markdown",
   "metadata": {},
   "source": [
    "## Import Libraries"
   ]
  },
  {
   "cell_type": "code",
   "execution_count": null,
   "metadata": {},
   "outputs": [],
   "source": [
    "import time\n",
    "\n",
    "import numpy as np\n",
    "\n",
    "import skrobot\n",
    "\n",
    "\n",
    "print(f\"scikit-robot version: {skrobot.__version__}\")"
   ]
  },
  {
   "cell_type": "markdown",
   "metadata": {},
   "source": [
    "## Multiple Robot Models Demo\n",
    "\n",
    "First, let's display multiple robot models in a grid layout!"
   ]
  },
  {
   "cell_type": "code",
   "execution_count": null,
   "metadata": {},
   "outputs": [],
   "source": [
    "# Create viewer for multiple robots\n",
    "multi_viewer = skrobot.viewers.JupyterNotebookViewer(height=600)\n",
    "\n",
    "# Create multiple robot models\n",
    "robots = [\n",
    "    skrobot.models.Kuka(),\n",
    "    skrobot.models.Fetch(),\n",
    "    skrobot.models.Nextage(),\n",
    "    skrobot.models.PR2(),\n",
    "    skrobot.models.Panda(),\n",
    "]\n",
    "\n",
    "# Calculate grid layout\n",
    "def get_tile_shape(num, hw_ratio=1):\n",
    "    r_num = int(round(np.sqrt(num / hw_ratio)))\n",
    "    c_num = 0\n",
    "    while r_num * c_num < num:\n",
    "        c_num += 1\n",
    "    while (r_num - 1) * c_num >= num:\n",
    "        r_num -= 1\n",
    "    return r_num, c_num\n",
    "\n",
    "nrow, ncol = get_tile_shape(len(robots))\n",
    "row_spacing, col_spacing = 2, 2\n",
    "\n",
    "# Add robots in grid layout\n",
    "for i in range(nrow):\n",
    "    for j in range(ncol):\n",
    "        try:\n",
    "            robot = robots[i * ncol + j]\n",
    "        except IndexError:\n",
    "            break\n",
    "        \n",
    "        # Add platform under each robot\n",
    "        platform = skrobot.model.Box(extents=(row_spacing - 0.01, col_spacing - 0.01, 0.01))\n",
    "        platform.translate((row_spacing * i, col_spacing * j, -0.01))\n",
    "        multi_viewer.add(platform)\n",
    "        \n",
    "        # Position robot\n",
    "        robot.translate((row_spacing * i, col_spacing * j, 0))\n",
    "        multi_viewer.add(robot)\n",
    "\n",
    "multi_viewer.set_camera(angles=[np.deg2rad(30), 0, 0])\n",
    "\n",
    "print(f\"Created {len(robots)} robots in {nrow}x{ncol} grid:\")\n",
    "for robot in robots:\n",
    "    print(f\"  - {robot.__class__.__name__}\")\n",
    "\n",
    "multi_viewer.show()"
   ]
  },
  {
   "cell_type": "markdown",
   "metadata": {},
   "source": [
    "## Grasp and Pull Box Demo\n",
    "\n",
    "Now let's demonstrate a practical task: grasping and pulling a box."
   ]
  },
  {
   "cell_type": "code",
   "execution_count": null,
   "metadata": {},
   "outputs": [],
   "source": [
    "# Create PR2 robot for manipulation task\n",
    "from skrobot.coordinates.geo import midcoords\n",
    "from skrobot.model.primitives import Box\n",
    "\n",
    "robot = skrobot.models.PR2()\n",
    "\n",
    "# Define right arm link list\n",
    "link_list = [\n",
    "    robot.r_shoulder_pan_link,\n",
    "    robot.r_shoulder_lift_link,\n",
    "    robot.r_upper_arm_roll_link,\n",
    "    robot.r_elbow_flex_link,\n",
    "    robot.r_forearm_roll_link,\n",
    "    robot.r_wrist_flex_link,\n",
    "    robot.r_wrist_roll_link]\n",
    "\n",
    "# Create end-effector coordinates\n",
    "rarm_end_coords = skrobot.coordinates.CascadedCoords(\n",
    "    parent=robot.r_gripper_tool_frame,\n",
    "    name='rarm_end_coords')\n",
    "move_target = rarm_end_coords\n",
    "\n",
    "# Create viewer and add robot\n",
    "grasp_viewer = skrobot.viewers.JupyterNotebookViewer(height=600)\n",
    "grasp_viewer.add(robot)\n",
    "\n",
    "# Create box\n",
    "box = Box(extents=[0.1, 0.1, 0.2], with_sdf=True)\n",
    "box_center = np.array([0.9, -0.2, 0.9])\n",
    "box.translate(box_center)\n",
    "grasp_viewer.add(box)\n",
    "\n",
    "print(\"Robot and box created!\")"
   ]
  },
  {
   "cell_type": "markdown",
   "metadata": {},
   "source": [
    "### Execute Grasp and Pull Sequence\n",
    "\n",
    "Watch the robot grasp and pull the box!"
   ]
  },
  {
   "cell_type": "code",
   "execution_count": null,
   "metadata": {},
   "outputs": [],
   "source": [
    "# Display viewer in THIS cell\n",
    "grasp_viewer.show()\n",
    "\n",
    "# 1. Move to initial pose and open gripper\n",
    "print(\"1. Moving to initial pose...\")\n",
    "robot.reset_pose()\n",
    "target_coords = skrobot.coordinates.Coordinates([0.5, -0.3, 0.7], [0, 0, 0])\n",
    "robot.inverse_kinematics(target_coords, link_list=link_list, move_target=move_target)\n",
    "robot.gripper_distance(0.093, arm='rarm')  # Open gripper\n",
    "grasp_viewer.redraw()\n",
    "time.sleep(1)\n",
    "\n",
    "# 2. Move to box\n",
    "print(\"2. Moving to box...\")\n",
    "robot.look_at(box)\n",
    "start_coords = move_target.copy_worldcoords()\n",
    "target_coords = box.copy_worldcoords()\n",
    "\n",
    "for i in range(20):\n",
    "    robot.inverse_kinematics(\n",
    "        midcoords(i / 20.0, start_coords, target_coords),\n",
    "        link_list=link_list,\n",
    "        move_target=move_target)\n",
    "    grasp_viewer.redraw()\n",
    "    time.sleep(0.1)\n",
    "\n",
    "# 3. Grasp box\n",
    "print(\"3. Grasping box...\")\n",
    "robot.gripper_distance(0.036, arm='rarm')  # Close gripper\n",
    "move_target.assoc(box)  # Attach box to gripper\n",
    "grasp_viewer.redraw()\n",
    "time.sleep(1)\n",
    "\n",
    "# 4. Pull box\n",
    "print(\"4. Pulling box...\")\n",
    "target_coords = skrobot.coordinates.Coordinates([0.5, -0.3, 0.7])\n",
    "start_coords = box\n",
    "\n",
    "for i in range(20):\n",
    "    robot.inverse_kinematics(\n",
    "        midcoords(i / 20.0, start_coords, target_coords),\n",
    "        link_list=link_list,\n",
    "        move_target=move_target)\n",
    "    robot.look_at(box)\n",
    "    grasp_viewer.redraw()\n",
    "    time.sleep(0.1)\n",
    "\n",
    "print(\"\\n✓ Grasp and pull complete!\")"
   ]
  },
  {
   "cell_type": "code",
   "execution_count": null,
   "metadata": {},
   "outputs": [],
   "source": [
    "html = grasp_viewer.to_html()\n",
    "\n",
    "# Save to file\n",
    "with open('/content/robot_grasp.html', 'w') as f:\n",
    "    f.write(html)\n",
    "\n",
    "print(\"Saved to: /content/robot_grasp.html\")\n",
    "print(\"You can download this file and open it in any browser!\")\n",
    "\n",
    "# Display download link\n",
    "from google.colab import files\n",
    "\n",
    "print(\"\\nClick below to download:\")\n",
    "files.download('/content/robot_grasp.html')"
   ]
  },
  {
   "cell_type": "markdown",
   "metadata": {},
   "source": [
    "## Summary\n",
    "\n",
    "✓ JupyterNotebookViewer works in Google Colab!\n",
    "\n",
    "Features demonstrated:\n",
    "1. **Multiple robot models** (Kuka, Fetch, Nextage, PR2, Panda) in grid layout\n",
    "   - Synchronized rotation animation\n",
    "2. **Grasp and pull manipulation task**\n",
    "   - Inverse kinematics for motion planning\n",
    "   - Gripper control (open/close)\n",
    "   - Object attachment to end-effector\n",
    "   - Smooth interpolated motion\n",
    "\n",
    "Technical features:\n",
    "- 3D robot visualization with interactive camera controls (mouse)\n",
    "- Smooth animation updates with `redraw()`\n",
    "- No white flickering during updates\n",
    "- HTML export for standalone viewing\n",
    "\n",
    "Implementation:\n",
    "- IPython.display.HTML for notebook integration\n",
    "- iframe embedding for 3D rendering\n",
    "- postMessage API for smooth updates without page reload\n",
    "- three.js for WebGL-based 3D rendering\n",
    "\n",
    "All features work perfectly in both Jupyter and Google Colab!"
   ]
  }
 ],
 "metadata": {
  "accelerator": "GPU",
  "colab": {
   "provenance": [],
   "toc_visible": true
  },
  "kernelspec": {
   "display_name": "Python 3 (ipykernel)",
   "language": "python",
   "name": "python3"
  },
  "language_info": {
   "codemirror_mode": {
    "name": "ipython",
    "version": 3
   },
   "file_extension": ".py",
   "mimetype": "text/x-python",
   "name": "python",
   "nbconvert_exporter": "python",
   "pygments_lexer": "ipython3",
   "version": "3.10.16"
  }
 },
 "nbformat": 4,
 "nbformat_minor": 4
}
