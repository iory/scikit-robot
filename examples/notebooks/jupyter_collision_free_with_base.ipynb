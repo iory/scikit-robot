{
 "cells": [
  {
   "cell_type": "markdown",
   "metadata": {},
   "source": [
    "# Collision-Free Trajectory with Base Movement\n",
    "\n",
    "This notebook demonstrates collision-free motion planning where the robot's base (position and orientation) is also part of the motion plan.\n",
    "\n",
    "The robot will move its base AND arm to avoid obstacles!"
   ]
  },
  {
   "cell_type": "code",
   "execution_count": null,
   "metadata": {},
   "outputs": [],
   "source": [
    "import time\n",
    "\n",
    "import numpy as np\n",
    "\n",
    "import skrobot\n",
    "from skrobot.model.primitives import Axis\n",
    "from skrobot.model.primitives import Box\n",
    "from skrobot.model.primitives import LineString\n",
    "from skrobot.planner import sqp_plan_trajectory\n",
    "from skrobot.planner import SweptSphereSdfCollisionChecker\n",
    "from skrobot.planner.utils import get_robot_config\n",
    "from skrobot.planner.utils import set_robot_config"
   ]
  },
  {
   "cell_type": "markdown",
   "metadata": {},
   "source": [
    "## Setup Robot and Obstacle"
   ]
  },
  {
   "cell_type": "code",
   "execution_count": null,
   "metadata": {},
   "outputs": [],
   "source": [
    "# Initialize robot and obstacle\n",
    "np.random.seed(0)\n",
    "robot_model = skrobot.models.PR2()\n",
    "robot_model.init_pose()\n",
    "\n",
    "# Create obstacle\n",
    "box_center = np.array([0.9, -0.2, 0.9])\n",
    "box = Box(extents=[0.7, 0.5, 0.6], with_sdf=True)\n",
    "box.translate(box_center)\n",
    "\n",
    "# Define robot links\n",
    "link_list = [\n",
    "    robot_model.r_shoulder_pan_link, robot_model.r_shoulder_lift_link,\n",
    "    robot_model.r_upper_arm_roll_link, robot_model.r_elbow_flex_link,\n",
    "    robot_model.r_forearm_roll_link, robot_model.r_wrist_flex_link,\n",
    "    robot_model.r_wrist_roll_link]\n",
    "joint_list = [link.joint for link in link_list]\n",
    "\n",
    "coll_link_list = [\n",
    "    robot_model.r_upper_arm_link, robot_model.r_forearm_link,\n",
    "    robot_model.r_gripper_palm_link, robot_model.r_gripper_r_finger_link,\n",
    "    robot_model.r_gripper_l_finger_link]\n",
    "\n",
    "print(\"Robot and obstacle created\")"
   ]
  },
  {
   "cell_type": "markdown",
   "metadata": {},
   "source": [
    "## Setup Start and Goal Configurations\n",
    "\n",
    "**Important**: With base movement enabled, the configuration includes:\n",
    "- 7 joint angles for the right arm\n",
    "- 3 base parameters: [x, y, theta]"
   ]
  },
  {
   "cell_type": "code",
   "execution_count": null,
   "metadata": {},
   "outputs": [],
   "source": [
    "# Start configuration: arm angles + base pose\n",
    "av_start = np.array([0.564, 0.35, -0.74, -0.7, -0.7, -0.17, -0.63])\n",
    "base_pose_start = [-0.5, 0.8, 0]  # [x, y, theta]\n",
    "av_start = np.hstack([av_start, base_pose_start])\n",
    "\n",
    "print(f\"Start config (7 joints + 3 base): {av_start}\")\n",
    "print(f\"  Joints: {av_start[:7]}\")\n",
    "print(f\"  Base [x, y, theta]: {av_start[7:]}\")"
   ]
  },
  {
   "cell_type": "code",
   "execution_count": null,
   "metadata": {},
   "outputs": [],
   "source": [
    "# Solve IK for goal configuration\n",
    "joint_angles = np.deg2rad([-60, 74, -70, -120, -20, -30, 180])\n",
    "set_robot_config(robot_model, joint_list, joint_angles)\n",
    "target_coords = skrobot.coordinates.Coordinates([0.8, -0.6, 0.8], [0, 0, 0])\n",
    "\n",
    "rarm_end_coords = skrobot.coordinates.CascadedCoords(\n",
    "    parent=robot_model.r_gripper_tool_frame,\n",
    "    name='rarm_end_coords')\n",
    "robot_model.inverse_kinematics(\n",
    "    target_coords=target_coords,\n",
    "    link_list=link_list,\n",
    "    move_target=robot_model.rarm_end_coords, rotation_axis=True)\n",
    "av_goal = get_robot_config(robot_model, joint_list, with_base=True)\n",
    "\n",
    "print(f\"Goal config (7 joints + 3 base): {av_goal}\")\n",
    "print(f\"  Joints: {av_goal[:7]}\")\n",
    "print(f\"  Base [x, y, theta]: {av_goal[7:]}\")"
   ]
  },
  {
   "cell_type": "markdown",
   "metadata": {},
   "source": [
    "## Setup Collision Checker and Viewer"
   ]
  },
  {
   "cell_type": "code",
   "execution_count": null,
   "metadata": {},
   "outputs": [],
   "source": [
    "# Setup collision checker\n",
    "sscc = SweptSphereSdfCollisionChecker(box.sdf, robot_model)\n",
    "for link in coll_link_list:\n",
    "    sscc.add_collision_link(link)\n",
    "\n",
    "print(\"Collision checker configured\")"
   ]
  },
  {
   "cell_type": "code",
   "execution_count": null,
   "metadata": {},
   "outputs": [],
   "source": [
    "# Create viewer and add objects\n",
    "viewer = skrobot.viewers.JupyterNotebookViewer(height=600)\n",
    "viewer.add(robot_model)\n",
    "viewer.add(box)\n",
    "viewer.add(Axis(pos=target_coords.worldpos(), rot=target_coords.worldrot()))\n",
    "\n",
    "sscc.add_coll_spheres_to_viewer(viewer)\n",
    "\n",
    "# Set start configuration (don't show yet - will show in animation cell)\n",
    "set_robot_config(robot_model, joint_list, av_start, with_base=True)\n",
    "viewer.set_camera([0, 0, np.pi / 2.0])\n",
    "\n",
    "print(\"Viewer configured (will display in animation cell below)\")"
   ]
  },
  {
   "cell_type": "markdown",
   "metadata": {},
   "source": [
    "## Plan Trajectory\n",
    "\n",
    "The planner will find a collision-free path that moves both the base and arm."
   ]
  },
  {
   "cell_type": "code",
   "execution_count": null,
   "metadata": {},
   "outputs": [],
   "source": [
    "print(\"Planning trajectory with base movement...\")\n",
    "n_waypoint = 10\n",
    "av_seq = sqp_plan_trajectory(\n",
    "    sscc, av_start, av_goal, joint_list, n_waypoint,\n",
    "    safety_margin=5.0e-2, with_base=True)\n",
    "print(f\"✓ Generated {len(av_seq)} waypoints\")\n",
    "print(f\"  Each waypoint has {len(av_seq[0])} values (7 joints + 3 base params)\")"
   ]
  },
  {
   "cell_type": "markdown",
   "metadata": {},
   "source": [
    "## Animate Trajectory\n",
    "\n",
    "Watch the robot move its base AND arm to avoid the obstacle!\n",
    "\n",
    "Notice:\n",
    "- Base position (x, y) changes\n",
    "- Base orientation (theta) changes  \n",
    "- Arm joints change\n",
    "- All updates are smooth without flickering!"
   ]
  },
  {
   "cell_type": "code",
   "execution_count": null,
   "metadata": {},
   "outputs": [],
   "source": [
    "print(\"Animating trajectory...\")\n",
    "\n",
    "# Display viewer in THIS cell\n",
    "viewer.show()\n",
    "\n",
    "rarm_point_history = []\n",
    "line_string = None\n",
    "\n",
    "for i, av in enumerate(av_seq):\n",
    "    # Update robot configuration (joints + base)\n",
    "    set_robot_config(robot_model, joint_list, av, with_base=True)\n",
    "    rarm_point_history.append(rarm_end_coords.worldpos())\n",
    "\n",
    "    # Update trajectory visualization\n",
    "    if line_string is not None:\n",
    "        viewer.delete(line_string)\n",
    "    if len(rarm_point_history) > 1:\n",
    "        line_string = LineString(np.array(rarm_point_history))\n",
    "        viewer.add(line_string)\n",
    "\n",
    "    # Update collision sphere colors\n",
    "    sscc.update_color()\n",
    "\n",
    "    # Update display\n",
    "    viewer.redraw()\n",
    "\n",
    "    # Print waypoint info\n",
    "    joints = av[:7]\n",
    "    base = av[7:]\n",
    "    print(f\"Waypoint {i + 1}/{len(av_seq)}: base=[{base[0]:.2f}, {base[1]:.2f}, {np.rad2deg(base[2]):.1f}°]\")\n",
    "\n",
    "    time.sleep(1.0)\n",
    "\n",
    "print(\"\\n✓ Animation complete!\")"
   ]
  },
  {
   "cell_type": "markdown",
   "metadata": {},
   "source": [
    "## Save as HTML"
   ]
  },
  {
   "cell_type": "code",
   "execution_count": null,
   "metadata": {},
   "outputs": [],
   "source": [
    "html = viewer.to_html()\n",
    "output_file = '/tmp/collision_free_with_base.html'\n",
    "with open(output_file, 'w') as f:\n",
    "    f.write(html)\n",
    "print(f\"Saved to: {output_file}\")\n",
    "print(\"Open this file in a browser to view the final state!\")"
   ]
  }
 ],
 "metadata": {
  "kernelspec": {
   "display_name": "Python 3",
   "language": "python",
   "name": "python3"
  },
  "language_info": {
   "codemirror_mode": {
    "name": "ipython",
    "version": 3
   },
   "file_extension": ".py",
   "mimetype": "text/x-python",
   "name": "python",
   "nbconvert_exporter": "python",
   "pygments_lexer": "ipython3",
   "version": "3.10.0"
  }
 },
 "nbformat": 4,
 "nbformat_minor": 4
}
